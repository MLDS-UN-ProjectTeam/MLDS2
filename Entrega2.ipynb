{
  "cells": [
    {
      "cell_type": "markdown",
      "id": "f937b2ff",
      "metadata": {
        "id": "f937b2ff"
      },
      "source": [
        "<img src = \"./resources/images/banner_2.jpeg\" alt = \"Encabezado MLDS\" width = \"100%\">  </img>"
      ]
    },
    {
      "cell_type": "markdown",
      "id": "a9669dfd",
      "metadata": {
        "id": "a9669dfd"
      },
      "source": [
        "# **Entendimiento y Preparación de los Datos**\n",
        "---"
      ]
    },
    {
      "cell_type": "markdown",
      "id": "ckNDI7ftUrpa",
      "metadata": {
        "id": "ckNDI7ftUrpa"
      },
      "source": [
        "## **0. Integrantes del equipo de trabajo**\n",
        "---\n",
        "\n",
        "<table><thead>\n",
        "  <tr>\n",
        "    <th>#</th>\n",
        "    <th>Integrante</th>\n",
        "    <th>Documento de identidad</th>\n",
        "  </tr></thead>\n",
        "<tbody>\n",
        "  <tr>\n",
        "    <td>1</td>\n",
        "    <td>Diego Alejandro Feliciano Ramos</td>\n",
        "    <td>1024586904</td>\n",
        "  </tr>\n",
        "  <tr>\n",
        "    <td>2</td>\n",
        "    <td>Ivonne Cristina Ruiz Páez</td>\n",
        "    <td>1014302058</td>\n",
        "  </tr>\n",
        "</tbody>\n",
        "</table>"
      ]
    },
    {
      "cell_type": "markdown",
      "id": "f6de2158",
      "metadata": {
        "id": "f6de2158"
      },
      "source": [
        "## **1. Análisis Exploratorio de los Datos**\n",
        "---"
      ]
    },
    {
      "cell_type": "markdown",
      "id": "20031c7b",
      "metadata": {
        "id": "20031c7b"
      },
      "source": [
        "### **1.1. Resumen General**\n",
        "---\n",
        "\n",
        "- ¿Cuántos documentos tiene el *dataset*?\n",
        "- ¿En qué formato están almacenados los datos?\n",
        "- ¿Qué tamaño en MB tiene el conjunto de datos?"
      ]
    },
    {
      "cell_type": "markdown",
      "id": "447ad6f5",
      "metadata": {
        "id": "447ad6f5"
      },
      "source": [
        "### **1.2. Resumen de la Calidad de los datos**\n",
        "---\n",
        "\n",
        "- ¿Se detecta la ausencia de datos, la presencia de documentos vacíos o la existencia de datos de baja calidad en el conjunto?\n",
        "- ¿Se identifican documentos ilegibles o con dificultades de codificación durante la revisión del conjunto de datos?\n",
        "- ¿Se observa una diversidad de formatos en el conjunto de datos que pueda dificultar su consistencia o comprensión?\n",
        "- ¿Se identificaron y abordaron posibles problemas, como valores atípicos, duplicados o datos faltantes?"
      ]
    },
    {
      "cell_type": "markdown",
      "id": "e90ec109",
      "metadata": {
        "id": "e90ec109"
      },
      "source": [
        "### **1.3. Tipos de variables**\n",
        "---\n",
        "\n",
        "- ¿El conjunto de datos tiene una variable objetivo a estimar?, de ser así, ¿es una variable continúa o categórica?\n",
        "- Analice la distribución de las etiquetas, identifique si hay desbalanceo de datos.\n",
        "- ¿El conjunto de datos cuenta con otras variables adicionales?, de ser así, debe analizar cuáles se incorporarán en el modelo y hacer un análisis descriptivo de las mismas."
      ]
    },
    {
      "cell_type": "markdown",
      "id": "53af2475",
      "metadata": {
        "id": "53af2475"
      },
      "source": [
        "### **1.4. Relación Entre Variables**\n",
        "---\n",
        "\n",
        "- Analice si existe alguna relación entre las variables. Puede utilizar medidas de correlación o visualizaciones.\n",
        "- Identifique si hay redundancia entre las variables para una posterior eliminación o selección."
      ]
    },
    {
      "cell_type": "markdown",
      "id": "698f42d4",
      "metadata": {
        "id": "698f42d4"
      },
      "source": [
        "## **Créditos**\n",
        "---\n",
        "\n",
        "* **Profesor:** [Fabio Augusto Gonzalez](https://dis.unal.edu.co/~fgonza/)\n",
        "* **Asistente docente :**\n",
        "  * [Rosa Alejandra Superlano Esquibel](https://www.linkedin.com/in/alejandrasuperlano/).\n",
        "* **Diseño de imágenes:**\n",
        "    - [Rosa Alejandra Superlano Esquibel](https://www.linkedin.com/in/alejandrasuperlano/).\n",
        "* **Coordinador de virtualización:**\n",
        "    - [Edder Hernández Forero](https://www.linkedin.com/in/edder-hernandez-forero-28aa8b207/).\n",
        "\n",
        "**Universidad Nacional de Colombia** - *Facultad de Ingeniería*"
      ]
    }
  ],
  "metadata": {
    "colab": {
      "provenance": []
    },
    "jupytext": {
      "cell_metadata_filter": "-all"
    },
    "kernelspec": {
      "display_name": "Python 3 (ipykernel)",
      "language": "python",
      "name": "python3"
    }
  },
  "nbformat": 4,
  "nbformat_minor": 5
}

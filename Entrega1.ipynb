{
 "cells": [
  {
   "cell_type": "markdown",
   "id": "585dcbfa",
   "metadata": {
    "id": "585dcbfa"
   },
   "source": [
    "<img src = \"./resources/images/banner_1.jpeg\" alt = \"Encabezado MLDS\" width = \"100%\"></img>"
   ]
  },
  {
   "cell_type": "markdown",
   "id": "82ea3b5e",
   "metadata": {
    "id": "82ea3b5e"
   },
   "source": [
    "# **Entendimiento del Negocio y Carga de Datos**\n",
    "---"
   ]
  },
  {
   "cell_type": "markdown",
   "id": "ZE34UT9NZrYv",
   "metadata": {
    "id": "ZE34UT9NZrYv"
   },
   "source": [
    "## **0. Integrantes del equipo de trabajo**\n",
    "---\n",
    "\n",
    "<table><thead>\n",
    "  <tr>\n",
    "    <th>#</th>\n",
    "    <th>Integrante</th>\n",
    "    <th>Documento de identidad</th>\n",
    "  </tr></thead>\n",
    "<tbody>\n",
    "  <tr>\n",
    "    <td>1</td>\n",
    "    <td>Diego Alejandro Feliciano Ramos</td>\n",
    "    <td>1024586904</td>\n",
    "  </tr>\n",
    "  <tr>\n",
    "    <td>2</td>\n",
    "    <td>Ivonne Cristina Ruiz Páez</td>\n",
    "    <td>1014302058</td>\n",
    "  </tr>\n",
    "</tbody>\n",
    "</table>"
   ]
  },
  {
   "cell_type": "markdown",
   "id": "fdb4c33d",
   "metadata": {
    "id": "fdb4c33d"
   },
   "source": [
    "## **1. Marco de Proyecto**\n",
    "---"
   ]
  },
  {
   "cell_type": "markdown",
   "id": "7a974ec1",
   "metadata": {
    "id": "7a974ec1"
   },
   "source": [
    "### **1.1. Trasfondo del Negocio**\n",
    "---\n",
    "\n",
    "En esta ocasión estaremos trabajando sobre medical MNIST (https://medmnist.com/). Un grupo de bases de datos, diseñado para la exploración de modelos machine learning y deep learning en diferentes contextos de imágenes diagnósticas. Puntualmente, se utilizará el conjunto PneumoniaMNIST.\n",
    "\n",
    "El conjunto de datos PneumoniaMNIST está basado en imágenes de rayos X de tórax, en los que se busca resolver una tarea de clasificación cuyo objetivo es identificar casos de neumonía o en su defecto identificar si el paciente es una persona sin afectación alguna de la enfermedad. De hecho, el uso de inteligencia artificial en radiología para detectar neumonía es una herramienta prometedora para ayudar a los médicos a hacer diagnósticos más rápidos y precisos, especialmente en entornos con recursos limitados. \n",
    "\n",
    "En última instancia, el objetivo de este trabajo es beneficiar a centros médicos ayudando a acelerar el diagnóstico y remisión de estas afecciones respiratorias tratables, facilitando así un tratamiento más temprano y dando como resultado mejores resultados clínicos."
   ]
  },
  {
   "cell_type": "markdown",
   "id": "d09c63e5",
   "metadata": {
    "id": "d09c63e5"
   },
   "source": [
    "### **1.2. Alcance**\n",
    "---\n",
    "\n",
    "Se busca implementar un modelo de aprendizaje automático que clasifique imágenes de rayos X de tórax en dos categorías: \"Normal\" o \"Neumonía\", identificando de manera precisa la presencia o ausencia de esta enfermedad pulmonar. Este modelo está pensado como un apoyo para médicos y radiólogos, brindando una herramienta que les ayude a detectar rápidamente posibles casos de neumonía, sin sustituir su valiosa experiencia y juicio clínico. Diseñado para procesar una imagen a la vez, el sistema contribuirá a agilizar los diagnósticos, lo que resulta especialmente útil en contextos con recursos limitados o alta demanda.\n",
    "\n",
    "El proyecto se centrará únicamente en detectar la presencia o ausencia de neumonía, sin entrar en detalles sobre el tipo o la gravedad de la enfermedad, ni en sus posibles causas, como infecciones bacterianas o virales. Tampoco considerará otras afecciones pulmonares, como fibrosis, tumores o infecciones por hongos. Este sistema está pensado como un complemento al diagnóstico médico, no como un sustituto.\n",
    "\n",
    "El uso del modelo será muy simple: el usuario cargará una imagen de rayos X y el sistema la clasificará como \"Normal\" o \"Neumonía\", facilitando y acelerando el proceso de revisión. No obstante, el diagnóstico definitivo siempre quedará en manos del especialista, quien tendrá la última palabra."
   ]
  },
  {
   "cell_type": "markdown",
   "id": "370e4a5d",
   "metadata": {
    "id": "370e4a5d"
   },
   "source": [
    "### **1.3. Plan**\n",
    "---\n",
    "Para la ejecución de las actividades se tomó la decisión de usar [GitHub](https://github.com/MLDS-UN-ProjectTeam/final-term-project) con Jira integradas, esto permitirá llevar un seguimiento detallado del trabajo a realizar a su vez de intentar asegurar la calidad de los entregables. \n",
    "\n",
    "A continuación se detalla el [diagrama de Gantt llevado a cabo con Jira](https://unal-team-mlds-project.atlassian.net/jira/software/projects/MLDSFP/boards/1/timeline?shared=&atlOrigin=eyJpIjoiN2U5ZWZmODVlODRhNDExMTllY2E3NjBkMmQ3NDZjMGEiLCJwIjoiaiJ9) con las tareas conocidas hasta ahora:\n",
    "\n",
    "<img src = \"./resources/images/gantt.png\" alt = \"Diagrama de Gantt\" width = \"100%\"></img>\n",
    "\n",
    "También se hace constar por escrito que el proyecto, tal y como fue creado en Jira, consta de 5 épicas que corresponden a cada entrega del proyecto, con tareas que engloban los puntos iniciales a realizar y subtareas que describen mejor cada uno de los subitems que se deben realizar en el punto.\n",
    "\n",
    "Además del [estado actual de las epicas, tareas y subtareas](https://unal-team-mlds-project.atlassian.net/jira/software/projects/MLDSFP/boards/1?atlOrigin=eyJpIjoiM2E2ZjkzNDdkYzY4NDI4ZGI0ZjM3YzkzYjQ5Nzg4MDEiLCJwIjoiaiJ9):\n",
    "\n",
    "<img src = \"./resources/images/sprint_view.png\" alt = \"Vista del sprint\" width = \"100%\"></img>\n",
    "\n",
    "Por último, se añade una visualización al trabajo conocido y estimado hasta ahora en [el backlog del proyecto](https://unal-team-mlds-project.atlassian.net/jira/software/projects/MLDSFP/boards/1/backlog?atlOrigin=eyJpIjoiMjE0YThmMzZiY2RjNGI0MzgxYzEzZTdlMDU2NjEzOWIiLCJwIjoiaiJ9):\n",
    "\n",
    "<img src = \"./resources/images/backlog.png\" alt = \"Vista del backlog\" width = \"100%\"></img>"
   ]
  },
  {
   "cell_type": "markdown",
   "id": "4a4e145b",
   "metadata": {
    "id": "4a4e145b"
   },
   "source": [
    "## **2. Datos**\n",
    "---"
   ]
  },
  {
   "cell_type": "markdown",
   "id": "2c5f8274",
   "metadata": {
    "id": "2c5f8274"
   },
   "source": [
    "### **2.1. Origen**\n",
    "---\n",
    "\n",
    "El conjunto de datos PneumoniaMNIST proviene de un conjunto de 5,856 imágenes de radiografías pediátricas de tórax. Estas imágenes fueron recopiladas para crear un conjunto de datos de imágenes médicas que se utiliza para tareas de clasificación de neumonía. Las radiografías fueron tomadas en pacientes pediátricos y etiquetadas como neumonía o normal (sin neumonía).\n",
    "\n",
    "Es posible descargar el conjunto de datos de forma automática utilizando la biblioteca MedMNIST de Python. También puede descargarse de forma directa a través de la plataforma Zenodo.\n",
    "\n",
    "Las imágenes originales están en escala de grises, y sus tamaños varían entre 384 a 2,916 píxeles de ancho y 127 a 2,713 píxeles de alto. Se aplicó un recorte central a las imágenes y se redimensionaron a 1x28x28.\n",
    "\n",
    "El conjunto de datos está compuesto por 6 claves (keys):\n",
    "\n",
    "* train_images\n",
    "* train_labels\n",
    "* val_images\n",
    "* val_labels\n",
    "* test_images\n",
    "* test_labels\n",
    "\n",
    "Etiquetas:\n",
    "\n",
    "* \"0\": Normal\n",
    "* \"1\": Neumonía\n",
    "\n",
    "Corresponde a un problema de clasificación binaria."
   ]
  },
  {
   "cell_type": "markdown",
   "id": "4a9cc180",
   "metadata": {
    "id": "4a9cc180"
   },
   "source": [
    "### **2.2. Carga o Adquisición de Datos**\n",
    "---"
   ]
  },
  {
   "cell_type": "code",
   "execution_count": 1,
   "id": "1b580368",
   "metadata": {
    "id": "1b580368"
   },
   "outputs": [
    {
     "name": "stdout",
     "output_type": "stream",
     "text": [
      "Collecting medmnist\n",
      "  Downloading medmnist-3.0.2-py3-none-any.whl.metadata (14 kB)\n",
      "Requirement already satisfied: numpy in /opt/anaconda3/lib/python3.12/site-packages (from medmnist) (1.26.4)\n",
      "Requirement already satisfied: pandas in /opt/anaconda3/lib/python3.12/site-packages (from medmnist) (2.2.2)\n",
      "Requirement already satisfied: scikit-learn in /opt/anaconda3/lib/python3.12/site-packages (from medmnist) (1.4.2)\n",
      "Requirement already satisfied: scikit-image in /opt/anaconda3/lib/python3.12/site-packages (from medmnist) (0.23.2)\n",
      "Requirement already satisfied: tqdm in /opt/anaconda3/lib/python3.12/site-packages (from medmnist) (4.66.4)\n",
      "Requirement already satisfied: Pillow in /opt/anaconda3/lib/python3.12/site-packages (from medmnist) (10.3.0)\n",
      "Collecting fire (from medmnist)\n",
      "  Downloading fire-0.7.0.tar.gz (87 kB)\n",
      "\u001b[2K     \u001b[90m━━━━━━━━━━━━━━━━━━━━━━━━━━━━━━━━━━━━━━━━\u001b[0m \u001b[32m87.2/87.2 kB\u001b[0m \u001b[31m4.6 MB/s\u001b[0m eta \u001b[36m0:00:00\u001b[0m\n",
      "\u001b[?25h  Preparing metadata (setup.py) ... \u001b[?25ldone\n",
      "\u001b[?25hCollecting torch (from medmnist)\n",
      "  Downloading torch-2.4.1-cp312-none-macosx_11_0_arm64.whl.metadata (26 kB)\n",
      "Collecting torchvision (from medmnist)\n",
      "  Downloading torchvision-0.19.1-cp312-cp312-macosx_11_0_arm64.whl.metadata (6.0 kB)\n",
      "Collecting termcolor (from fire->medmnist)\n",
      "  Downloading termcolor-2.5.0-py3-none-any.whl.metadata (6.1 kB)\n",
      "Requirement already satisfied: python-dateutil>=2.8.2 in /opt/anaconda3/lib/python3.12/site-packages (from pandas->medmnist) (2.9.0.post0)\n",
      "Requirement already satisfied: pytz>=2020.1 in /opt/anaconda3/lib/python3.12/site-packages (from pandas->medmnist) (2024.1)\n",
      "Requirement already satisfied: tzdata>=2022.7 in /opt/anaconda3/lib/python3.12/site-packages (from pandas->medmnist) (2023.3)\n",
      "Requirement already satisfied: scipy>=1.9 in /opt/anaconda3/lib/python3.12/site-packages (from scikit-image->medmnist) (1.13.1)\n",
      "Requirement already satisfied: networkx>=2.8 in /opt/anaconda3/lib/python3.12/site-packages (from scikit-image->medmnist) (3.2.1)\n",
      "Requirement already satisfied: imageio>=2.33 in /opt/anaconda3/lib/python3.12/site-packages (from scikit-image->medmnist) (2.33.1)\n",
      "Requirement already satisfied: tifffile>=2022.8.12 in /opt/anaconda3/lib/python3.12/site-packages (from scikit-image->medmnist) (2023.4.12)\n",
      "Requirement already satisfied: packaging>=21 in /opt/anaconda3/lib/python3.12/site-packages (from scikit-image->medmnist) (23.2)\n",
      "Requirement already satisfied: lazy-loader>=0.4 in /opt/anaconda3/lib/python3.12/site-packages (from scikit-image->medmnist) (0.4)\n",
      "Requirement already satisfied: joblib>=1.2.0 in /opt/anaconda3/lib/python3.12/site-packages (from scikit-learn->medmnist) (1.4.2)\n",
      "Requirement already satisfied: threadpoolctl>=2.0.0 in /opt/anaconda3/lib/python3.12/site-packages (from scikit-learn->medmnist) (2.2.0)\n",
      "Requirement already satisfied: filelock in /opt/anaconda3/lib/python3.12/site-packages (from torch->medmnist) (3.13.1)\n",
      "Requirement already satisfied: typing-extensions>=4.8.0 in /opt/anaconda3/lib/python3.12/site-packages (from torch->medmnist) (4.11.0)\n",
      "Requirement already satisfied: sympy in /opt/anaconda3/lib/python3.12/site-packages (from torch->medmnist) (1.12)\n",
      "Requirement already satisfied: jinja2 in /opt/anaconda3/lib/python3.12/site-packages (from torch->medmnist) (3.1.4)\n",
      "Requirement already satisfied: fsspec in /opt/anaconda3/lib/python3.12/site-packages (from torch->medmnist) (2024.3.1)\n",
      "Requirement already satisfied: setuptools in /opt/anaconda3/lib/python3.12/site-packages (from torch->medmnist) (69.5.1)\n",
      "Requirement already satisfied: six>=1.5 in /opt/anaconda3/lib/python3.12/site-packages (from python-dateutil>=2.8.2->pandas->medmnist) (1.16.0)\n",
      "Requirement already satisfied: MarkupSafe>=2.0 in /opt/anaconda3/lib/python3.12/site-packages (from jinja2->torch->medmnist) (2.1.3)\n",
      "Requirement already satisfied: mpmath>=0.19 in /opt/anaconda3/lib/python3.12/site-packages (from sympy->torch->medmnist) (1.3.0)\n",
      "Downloading medmnist-3.0.2-py3-none-any.whl (25 kB)\n",
      "Downloading torch-2.4.1-cp312-none-macosx_11_0_arm64.whl (62.1 MB)\n",
      "\u001b[2K   \u001b[90m━━━━━━━━━━━━━━━━━━━━━━━━━━━━━━━━━━━━━━━━\u001b[0m \u001b[32m62.1/62.1 MB\u001b[0m \u001b[31m47.9 MB/s\u001b[0m eta \u001b[36m0:00:00\u001b[0m00:01\u001b[0m00:01\u001b[0m\n",
      "\u001b[?25hDownloading torchvision-0.19.1-cp312-cp312-macosx_11_0_arm64.whl (1.7 MB)\n",
      "\u001b[2K   \u001b[90m━━━━━━━━━━━━━━━━━━━━━━━━━━━━━━━━━━━━━━━━\u001b[0m \u001b[32m1.7/1.7 MB\u001b[0m \u001b[31m53.1 MB/s\u001b[0m eta \u001b[36m0:00:00\u001b[0m\n",
      "\u001b[?25hDownloading termcolor-2.5.0-py3-none-any.whl (7.8 kB)\n",
      "Building wheels for collected packages: fire\n",
      "  Building wheel for fire (setup.py) ... \u001b[?25ldone\n",
      "\u001b[?25h  Created wheel for fire: filename=fire-0.7.0-py3-none-any.whl size=114248 sha256=a0fa07bb2ef10f9e4d76441cdd0c48a82a7d0087ba614c102bd0dd643311766f\n",
      "  Stored in directory: /Users/diegof/Library/Caches/pip/wheels/9e/5b/45/29f72e55d87a29426b04b3cfdf20325c079eb97ab74f59017d\n",
      "Successfully built fire\n",
      "Installing collected packages: termcolor, torch, fire, torchvision, medmnist\n",
      "Successfully installed fire-0.7.0 medmnist-3.0.2 termcolor-2.5.0 torch-2.4.1 torchvision-0.19.1\n",
      "Note: you may need to restart the kernel to use updated packages.\n"
     ]
    }
   ],
   "source": [
    "%pip install medmnist"
   ]
  },
  {
   "cell_type": "code",
   "execution_count": 2,
   "id": "714441d1",
   "metadata": {},
   "outputs": [
    {
     "name": "stdout",
     "output_type": "stream",
     "text": [
      "Downloading https://zenodo.org/records/10519652/files/pneumoniamnist.npz?download=1 to /Users/diegof/.medmnist/pneumoniamnist.npz\n"
     ]
    },
    {
     "name": "stderr",
     "output_type": "stream",
     "text": [
      "100%|██████████| 4170669/4170669 [00:16<00:00, 260234.24it/s]"
     ]
    },
    {
     "name": "stdout",
     "output_type": "stream",
     "text": [
      "Using downloaded and verified file: /Users/diegof/.medmnist/pneumoniamnist.npz\n",
      "Using downloaded and verified file: /Users/diegof/.medmnist/pneumoniamnist.npz\n"
     ]
    },
    {
     "name": "stderr",
     "output_type": "stream",
     "text": [
      "\n"
     ]
    }
   ],
   "source": [
    "from medmnist import PneumoniaMNIST\n",
    "train_set = PneumoniaMNIST(split=\"train\", download=True)\n",
    "val_set = PneumoniaMNIST(split=\"val\", download=True)\n",
    "test_set = PneumoniaMNIST(split=\"test\", download=True)"
   ]
  },
  {
   "cell_type": "code",
   "execution_count": 3,
   "id": "767e8c7d",
   "metadata": {},
   "outputs": [
    {
     "name": "stdout",
     "output_type": "stream",
     "text": [
      "Training set size: 4708\n",
      "Training set size: 524\n",
      "Training set size: 624\n"
     ]
    }
   ],
   "source": [
    "# Imprimir detalles del conjunto\n",
    "print(f\"Training set size: {len(train_set)}\")\n",
    "print(f\"Training set size: {len(val_set)}\")\n",
    "print(f\"Training set size: {len(test_set)}\")"
   ]
  },
  {
   "cell_type": "code",
   "execution_count": 4,
   "id": "2487b7fe",
   "metadata": {},
   "outputs": [
    {
     "name": "stdout",
     "output_type": "stream",
     "text": [
      "Image shape: (28, 28), Label: [1]\n"
     ]
    },
    {
     "data": {
      "image/png": "[encoded data removed]",
      "text/plain": [
       "<Figure size 640x480 with 1 Axes>"
      ]
     },
     "metadata": {},
     "output_type": "display_data"
    }
   ],
   "source": [
    "# Obtener una imagen y su etiqueta (conjunto de entrenamiento)\n",
    "\n",
    "import numpy as np\n",
    "import matplotlib.pyplot as plt\n",
    "from PIL import Image\n",
    "\n",
    "# Obtener una imagen y su etiqueta\n",
    "image, label = train_set[0]\n",
    "\n",
    "# Convertir la imagen PIL a un numpy array\n",
    "image = np.array(image)\n",
    "\n",
    "# Ver la forma de la imagen\n",
    "print(f\"Image shape: {image.shape}, Label: {label}\")\n",
    "\n",
    "# Mostrar la imagen\n",
    "#plt.imshow(train_set.imgs[0], cmap=\"gray\")\n",
    "plt.imshow(image, cmap='gray')   # 'gray' para imagenes en escala de grises\n",
    "plt.title(f\"Label: {label}\")     # etiqueta en el título\n",
    "plt.axis('off')\n",
    "plt.show()\n"
   ]
  },
  {
   "cell_type": "markdown",
   "id": "698f42d4",
   "metadata": {
    "id": "698f42d4"
   },
   "source": [
    "## **Créditos**\n",
    "---\n",
    "\n",
    "* **Profesor:** [Fabio Augusto Gonzalez](https://dis.unal.edu.co/~fgonza/)\n",
    "* **Asistente docente :**\n",
    "  * [Rosa Alejandra Superlano Esquibel](https://www.linkedin.com/in/alejandrasuperlano/).\n",
    "* **Diseño de imágenes:**\n",
    "    - [Rosa Alejandra Superlano Esquibel](https://www.linkedin.com/in/alejandrasuperlano/).\n",
    "* **Coordinador de virtualización:**\n",
    "    - [Edder Hernández Forero](https://www.linkedin.com/in/edder-hernandez-forero-28aa8b207/).\n",
    "\n",
    "**Universidad Nacional de Colombia** - *Facultad de Ingeniería*"
   ]
  }
 ],
 "metadata": {
  "colab": {
   "provenance": []
  },
  "jupytext": {
   "cell_metadata_filter": "-all"
  },
  "kernelspec": {
   "display_name": "base",
   "language": "python",
   "name": "python3"
  },
  "language_info": {
   "codemirror_mode": {
    "name": "ipython",
    "version": 3
   },
   "file_extension": ".py",
   "mimetype": "text/x-python",
   "name": "python",
   "nbconvert_exporter": "python",
   "pygments_lexer": "ipython3",
   "version": "3.12.4"
  }
 },
 "nbformat": 4,
 "nbformat_minor": 5
}

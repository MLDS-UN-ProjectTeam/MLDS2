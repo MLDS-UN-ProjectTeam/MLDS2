{
 "cells": [
  {
   "cell_type": "markdown",
   "id": "585dcbfa",
   "metadata": {
    "id": "585dcbfa"
   },
   "source": [
    "<img src = \"resources/images/banner_1.jpeg\" alt = \"Encabezado MLDS\" width = \"100%\"></img>"
   ]
  },
  {
   "cell_type": "markdown",
   "id": "82ea3b5e",
   "metadata": {
    "id": "82ea3b5e"
   },
   "source": [
    "# **Entendimiento del Negocio y Carga de Datos**\n",
    "---"
   ]
  },
  {
   "cell_type": "markdown",
   "id": "ZE34UT9NZrYv",
   "metadata": {
    "id": "ZE34UT9NZrYv"
   },
   "source": [
    "## **0. Integrantes del equipo de trabajo**\n",
    "---\n",
    "\n",
    "<table><thead>\n",
    "  <tr>\n",
    "    <th>#</th>\n",
    "    <th>Integrante</th>\n",
    "    <th>Documento de identidad</th>\n",
    "  </tr></thead>\n",
    "<tbody>\n",
    "  <tr>\n",
    "    <td>1</td>\n",
    "    <td>Diego Alejandro Feliciano Ramos</td>\n",
    "    <td>1024586904</td>\n",
    "  </tr>\n",
    "  <tr>\n",
    "    <td>2</td>\n",
    "    <td>Ivonne Cristina Ruiz Páez</td>\n",
    "    <td>1014302058</td>\n",
    "  </tr>\n",
    "</tbody>\n",
    "</table>"
   ]
  },
  {
   "cell_type": "markdown",
   "id": "fdb4c33d",
   "metadata": {
    "id": "fdb4c33d"
   },
   "source": [
    "## **1. Marco de Proyecto**\n",
    "---"
   ]
  },
  {
   "cell_type": "markdown",
   "id": "7a974ec1",
   "metadata": {
    "id": "7a974ec1"
   },
   "source": [
    "### **1.1. Trasfondo del Negocio**\n",
    "---\n",
    "\n",
    "En esta ocasión estaremos trabajando sobre medical MNIST (https://medmnist.com/). Un grupo de bases de datos, diseñado para la exploración de modelos machine learning y deep learning en diferentes contextos de imágenes diagnósticas. Puntualmente, se utilizará el conjunto PneumoniaMNIST.\n",
    "\n",
    "El conjunto de datos PneumoniaMNIST está basado en imágenes de rayos X de tórax, en los que se busca resolver una tarea de clasificación cuyo objetivo es identificar casos de neumonía o en su defecto identificar si el paciente es una persona sin afectación alguna de la enfermedad. De hecho, el uso de inteligencia artificial en radiología para detectar neumonía es una herramienta prometedora para ayudar a los médicos a hacer diagnósticos más rápidos y precisos, especialmente en entornos con recursos limitados. \n",
    "\n",
    "En última instancia, el objetivo de este trabajo es beneficiar a centros médicos ayudando a acelerar el diagnóstico y remisión de estas afecciones respiratorias tratables, facilitando así un tratamiento más temprano y dando como resultado mejores resultados clínicos."
   ]
  },
  {
   "cell_type": "markdown",
   "id": "d09c63e5",
   "metadata": {
    "id": "d09c63e5"
   },
   "source": [
    "### **1.2. Alcance**\n",
    "---\n",
    "\n",
    "Se busca implementar un modelo de aprendizaje automático que clasifique imágenes de rayos X de tórax en dos categorías: \"Normal\" o \"Neumonía\", identificando de manera precisa la presencia o ausencia de esta enfermedad pulmonar. Este modelo está pensado como un apoyo para médicos y radiólogos, brindando una herramienta que les ayude a detectar rápidamente posibles casos de neumonía, sin sustituir su valiosa experiencia y juicio clínico. Diseñado para procesar una imagen a la vez, el sistema contribuirá a agilizar los diagnósticos, lo que resulta especialmente útil en contextos con recursos limitados o alta demanda.\n",
    "\n",
    "El proyecto se centrará únicamente en detectar la presencia o ausencia de neumonía, sin entrar en detalles sobre el tipo o la gravedad de la enfermedad, ni en sus posibles causas, como infecciones bacterianas o virales. Tampoco considerará otras afecciones pulmonares, como fibrosis, tumores o infecciones por hongos. Este sistema está pensado como un complemento al diagnóstico médico, no como un sustituto.\n",
    "\n",
    "El uso del modelo será muy simple: el usuario cargará una imagen de rayos X y el sistema la clasificará como \"Normal\" o \"Neumonía\", facilitando y acelerando el proceso de revisión. No obstante, el diagnóstico definitivo siempre quedará en manos del especialista, quien tendrá la última palabra."
   ]
  },
  {
   "cell_type": "markdown",
   "id": "370e4a5d",
   "metadata": {
    "id": "370e4a5d"
   },
   "source": [
    "### **1.3. Plan**\n",
    "---\n",
    "Para la ejecución de las actividades se tomó la decisión de usar [GitHub](https://github.com/MLDS-UN-ProjectTeam/final-term-project) con Jira integradas, esto permitirá llevar un seguimiento detallado del trabajo a realizar a su vez de intentar asegurar la calidad de los entregables. \n",
    "\n",
    "A continuación se detalla el [diagrama de Gantt llevado a cabo con Jira](https://unal-team-mlds-project.atlassian.net/jira/software/projects/MLDSFP/boards/1/timeline?shared=&atlOrigin=eyJpIjoiN2U5ZWZmODVlODRhNDExMTllY2E3NjBkMmQ3NDZjMGEiLCJwIjoiaiJ9) con las tareas conocidas hasta ahora:\n",
    "\n",
    "<img src = \"resources/images/gantt.png\" alt = \"Diagrama de Gantt\" width = \"100%\"></img>\n",
    "\n",
    "También se hace constar por escrito que el proyecto, tal y como fue creado en Jira, consta de 5 épicas que corresponden a cada entrega del proyecto, con tareas que engloban los puntos iniciales a realizar y subtareas que describen mejor cada uno de los subitems que se deben realizar en el punto.\n",
    "\n",
    "Además del [estado actual de las epicas, tareas y subtareas](https://unal-team-mlds-project.atlassian.net/jira/software/projects/MLDSFP/boards/1?atlOrigin=eyJpIjoiM2E2ZjkzNDdkYzY4NDI4ZGI0ZjM3YzkzYjQ5Nzg4MDEiLCJwIjoiaiJ9):\n",
    "\n",
    "<img src = \"resources/images/sprint_view.png\" alt = \"Vista del sprint\" width = \"100%\"></img>\n",
    "\n",
    "Por último, se añade una visualización al trabajo conocido y estimado hasta ahora en [el backlog del proyecto](https://unal-team-mlds-project.atlassian.net/jira/software/projects/MLDSFP/boards/1/backlog?atlOrigin=eyJpIjoiMjE0YThmMzZiY2RjNGI0MzgxYzEzZTdlMDU2NjEzOWIiLCJwIjoiaiJ9):\n",
    "\n",
    "<img src = \"resources/images/backlog.png\" alt = \"Vista del backlog\" width = \"100%\"></img>"
   ]
  },
  {
   "cell_type": "markdown",
   "id": "4a4e145b",
   "metadata": {
    "id": "4a4e145b"
   },
   "source": [
    "## **2. Datos**\n",
    "---\n",
    "\n",
    "En esta sección debe adjuntar una descripción de los datos y agregar el código que permite su tratamiento."
   ]
  },
  {
   "cell_type": "markdown",
   "id": "2c5f8274",
   "metadata": {
    "id": "2c5f8274"
   },
   "source": [
    "### **2.1. Origen**\n",
    "---\n",
    "\n",
    "- ¿De dónde vienen los datos?\n",
    "- ¿Se usa alguna herramienta o proceso para la descarga de la información?\n",
    "- ¿Qué tipo de datos estamos manejando?"
   ]
  },
  {
   "cell_type": "markdown",
   "id": "4a9cc180",
   "metadata": {
    "id": "4a9cc180"
   },
   "source": [
    "### **2.2. Carga o Adquisición de Datos**\n",
    "---\n",
    "\n",
    "Agregue el código necesario en _Python_ para obtener o cargar los datos."
   ]
  },
  {
   "cell_type": "code",
   "execution_count": null,
   "id": "1b580368",
   "metadata": {
    "id": "1b580368"
   },
   "outputs": [],
   "source": []
  },
  {
   "cell_type": "markdown",
   "id": "698f42d4",
   "metadata": {
    "id": "698f42d4"
   },
   "source": [
    "## **Créditos**\n",
    "---\n",
    "\n",
    "* **Profesor:** [Fabio Augusto Gonzalez](https://dis.unal.edu.co/~fgonza/)\n",
    "* **Asistente docente :**\n",
    "  * [Rosa Alejandra Superlano Esquibel](https://www.linkedin.com/in/alejandrasuperlano/).\n",
    "* **Diseño de imágenes:**\n",
    "    - [Rosa Alejandra Superlano Esquibel](https://www.linkedin.com/in/alejandrasuperlano/).\n",
    "* **Coordinador de virtualización:**\n",
    "    - [Edder Hernández Forero](https://www.linkedin.com/in/edder-hernandez-forero-28aa8b207/).\n",
    "\n",
    "**Universidad Nacional de Colombia** - *Facultad de Ingeniería*"
   ]
  }
 ],
 "metadata": {
  "colab": {
   "provenance": []
  },
  "jupytext": {
   "cell_metadata_filter": "-all"
  },
  "kernelspec": {
   "display_name": "Python 3 (ipykernel)",
   "language": "python",
   "name": "python3"
  }
 },
 "nbformat": 4,
 "nbformat_minor": 5
}

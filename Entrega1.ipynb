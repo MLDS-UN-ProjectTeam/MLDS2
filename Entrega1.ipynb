{
 "cells": [
  {
   "cell_type": "markdown",
   "id": "585dcbfa",
   "metadata": {
    "id": "585dcbfa"
   },
   "source": "<img src = \"./resources/images/banner_1.jpeg\" alt = \"Encabezado MLDS\" width = \"100%\">  </img>"
  },
  {
   "cell_type": "markdown",
   "id": "82ea3b5e",
   "metadata": {
    "id": "82ea3b5e"
   },
   "source": [
    "# **Entendimiento del Negocio y Carga de Datos**\n",
    "---"
   ]
  },
  {
   "cell_type": "markdown",
   "metadata": {
    "id": "ZE34UT9NZrYv"
   },
   "source": [
    "## **0. Integrantes del equipo de trabajo**\n",
    "---\n",
    "\n",
    "<table><thead>\n",
    "  <tr>\n",
    "    <th>#</th>\n",
    "    <th>Integrante</th>\n",
    "    <th>Documento de identidad</th>\n",
    "  </tr></thead>\n",
    "<tbody>\n",
    "  <tr>\n",
    "    <td>1</td>\n",
    "    <td>Ivonne Cristina Ruiz Páez</td>\n",
    "    <td>1014303058</td>\n",
    "  </tr>\n",
    "  <tr>\n",
    "    <td>2</td>\n",
    "    <td>Diego Alejandro Feliciano Ramos</td>\n",
    "    <td>1024586904</td>\n",
    "</tbody>\n",
    "</table>"
   ],
   "id": "ZE34UT9NZrYv"
  },
  {
   "cell_type": "markdown",
   "id": "fdb4c33d",
   "metadata": {
    "id": "fdb4c33d"
   },
   "source": [
    "## **1. Marco de Proyecto**\n",
    "---\n",
    "\n",
    "Normalmente, se suele construir un marco de proyecto para mostrar los resultados del entendimiento del negocio. Para ello, se debe dar respuesta a los siguientes elementos:"
   ]
  },
  {
   "cell_type": "markdown",
   "id": "7a974ec1",
   "metadata": {
    "id": "7a974ec1"
   },
   "source": [
    "### **1.1. Trasfondo del Negocio**\n",
    "---\n",
    "\n",
    "- ¿Quién es el cliente o los beneficiarios del proyecto? ¿En qué dominio se encuentran (marketing, medicina, entre otros)?\n",
    "- ¿Qué problemas del negocio o del dominio estamos tratando de solucionar?"
   ]
  },
  {
   "cell_type": "markdown",
   "id": "18d9305a",
   "metadata": {
    "id": "18d9305a"
   },
   "source": [
    "---**INGRESE SU RESPUESTA**---"
   ]
  },
  {
   "cell_type": "markdown",
   "id": "d09c63e5",
   "metadata": {
    "id": "d09c63e5"
   },
   "source": [
    "### **1.2. Alcance**\n",
    "---\n",
    "\n",
    "- ¿Qué  solución se desea implementar?\n",
    "- ¿Cuáles son los límites y fronteras del proyecto de *machine learning*? ¿Qué aspectos específicos del negocio se incluirán y cuáles se excluyen en el alcance del proyecto?\n",
    "- ¿De qué forma el cliente o beneficiario utilizará el producto del proyecto?"
   ]
  },
  {
   "cell_type": "markdown",
   "id": "12e3be6b",
   "metadata": {
    "id": "12e3be6b"
   },
   "source": [
    "---**INGRESE SU RESPUESTA**---"
   ]
  },
  {
   "cell_type": "markdown",
   "id": "370e4a5d",
   "metadata": {
    "id": "370e4a5d"
   },
   "source": [
    "### **1.3. Plan**\n",
    "---\n",
    "\n",
    "Puede agregar una lista de actividades con tiempos estimados, un diagrama de Gantt o integrar alguna herramienta de gestión de proyectos para mostrar la planeación del proyecto como [*Jira*](https://www.atlassian.com/software/jira?&aceid=&adposition=&adgroup=144583570757&campaign=19313283508&creative=641924587890&device=c&keyword=jira%20software%20online&matchtype=p&network=g&placement=&ds_kids=p74602877891&ds_e=GOOGLE&ds_eid=700000001558501&ds_e1=GOOGLE&gad_source=1&gclid=CjwKCAiAqNSsBhAvEiwAn_tmxStBdySS6RxbLNGXE0tWTeJc32ffjQD_1EXZvH6hmQkYZm5bTa3sgBoCX3oQAvD_BwE&gclsrc=aw.ds) o [*Trello*](https://trello.com/?&aceid=&adposition=&adgroup=144675712219&campaign=19250238609&creative=641300630637&device=c&keyword=trello&matchtype=e&network=g&placement=&ds_kids=p74526213668&ds_e=GOOGLE&ds_eid=700000001557344&ds_e1=GOOGLE&gad_source=1&gclid=CjwKCAiAqNSsBhAvEiwAn_tmxWW7Gdzf0Szf-mA-piM2GPM7tk8R0HsgpBALLGHNFq1-2xXMQbxB1RoCs-sQAvD_BwE&gclsrc=aw.ds)."
   ]
  },
  {
   "cell_type": "markdown",
   "id": "3b465355",
   "metadata": {
    "id": "3b465355"
   },
   "source": [
    "---**INGRESE SU RESPUESTA**---"
   ]
  },
  {
   "cell_type": "markdown",
   "id": "4a4e145b",
   "metadata": {
    "id": "4a4e145b"
   },
   "source": [
    "## **2. Datos**\n",
    "---\n",
    "\n",
    "En esta sección debe adjuntar una descripción de los datos y agregar el código que permite su tratamiento."
   ]
  },
  {
   "cell_type": "markdown",
   "id": "2c5f8274",
   "metadata": {
    "id": "2c5f8274"
   },
   "source": [
    "### **2.1. Origen**\n",
    "---\n",
    "\n",
    "- ¿De dónde vienen los datos?\n",
    "- ¿Se usa alguna herramienta o proceso para la descarga de la información?\n",
    "- ¿Qué tipo de datos estamos manejando?"
   ]
  },
  {
   "cell_type": "markdown",
   "id": "7261ad96",
   "metadata": {
    "id": "7261ad96"
   },
   "source": [
    "---**INGRESE SU RESPUESTA**---"
   ]
  },
  {
   "cell_type": "markdown",
   "id": "4a9cc180",
   "metadata": {
    "id": "4a9cc180"
   },
   "source": [
    "### **2.2. Carga o Adquisición de Datos**\n",
    "---\n",
    "\n",
    "Agregue el código necesario en _Python_ para obtener o cargar los datos."
   ]
  },
  {
   "cell_type": "code",
   "execution_count": null,
   "id": "1b580368",
   "metadata": {
    "id": "1b580368"
   },
   "outputs": [],
   "source": [
    "# INGRESE SU CÓDIGO"
   ]
  },
  {
   "cell_type": "markdown",
   "id": "698f42d4",
   "metadata": {
    "id": "698f42d4"
   },
   "source": [
    "## **Créditos**\n",
    "---\n",
    "\n",
    "* **Profesor:** [Fabio Augusto Gonzalez](https://dis.unal.edu.co/~fgonza/)\n",
    "* **Asistente docente :**\n",
    "  * [Rosa Alejandra Superlano Esquibel](https://www.linkedin.com/in/alejandrasuperlano/).\n",
    "* **Diseño de imágenes:**\n",
    "    - [Rosa Alejandra Superlano Esquibel](https://www.linkedin.com/in/alejandrasuperlano/).\n",
    "* **Coordinador de virtualización:**\n",
    "    - [Edder Hernández Forero](https://www.linkedin.com/in/edder-hernandez-forero-28aa8b207/).\n",
    "\n",
    "**Universidad Nacional de Colombia** - *Facultad de Ingeniería*"
   ]
  }
 ],
 "metadata": {
  "jupytext": {
   "cell_metadata_filter": "-all"
  },
  "kernelspec": {
   "display_name": "Python 3 (ipykernel)",
   "language": "python",
   "name": "python3"
  },
  "colab": {
   "provenance": []
  }
 },
 "nbformat": 4,
 "nbformat_minor": 5
}
